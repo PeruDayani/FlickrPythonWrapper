{
 "cells": [
  {
   "cell_type": "code",
   "execution_count": 1,
   "id": "7508a4e5",
   "metadata": {},
   "outputs": [
    {
     "name": "stdout",
     "output_type": "stream",
     "text": [
      "Requirement already satisfied: flickrapi in /Library/Frameworks/Python.framework/Versions/3.8/lib/python3.8/site-packages (2.4.0)\n",
      "Requirement already satisfied: requests>=2.2.1 in /Library/Frameworks/Python.framework/Versions/3.8/lib/python3.8/site-packages (from flickrapi) (2.26.0)\n",
      "Requirement already satisfied: requests-oauthlib>=0.4.0 in /Library/Frameworks/Python.framework/Versions/3.8/lib/python3.8/site-packages (from flickrapi) (1.3.0)\n",
      "Requirement already satisfied: six>=1.5.2 in /Library/Frameworks/Python.framework/Versions/3.8/lib/python3.8/site-packages (from flickrapi) (1.16.0)\n",
      "Requirement already satisfied: requests-toolbelt>=0.3.1 in /Library/Frameworks/Python.framework/Versions/3.8/lib/python3.8/site-packages (from flickrapi) (0.9.1)\n",
      "Requirement already satisfied: charset-normalizer~=2.0.0 in /Library/Frameworks/Python.framework/Versions/3.8/lib/python3.8/site-packages (from requests>=2.2.1->flickrapi) (2.0.3)\n",
      "Requirement already satisfied: urllib3<1.27,>=1.21.1 in /Library/Frameworks/Python.framework/Versions/3.8/lib/python3.8/site-packages (from requests>=2.2.1->flickrapi) (1.26.6)\n",
      "Requirement already satisfied: certifi>=2017.4.17 in /Library/Frameworks/Python.framework/Versions/3.8/lib/python3.8/site-packages (from requests>=2.2.1->flickrapi) (2021.5.30)\n",
      "Requirement already satisfied: idna<4,>=2.5 in /Library/Frameworks/Python.framework/Versions/3.8/lib/python3.8/site-packages (from requests>=2.2.1->flickrapi) (3.2)\n",
      "Requirement already satisfied: oauthlib>=3.0.0 in /Library/Frameworks/Python.framework/Versions/3.8/lib/python3.8/site-packages (from requests-oauthlib>=0.4.0->flickrapi) (3.1.1)\n",
      "\u001b[33mWARNING: You are using pip version 21.2.4; however, version 22.1.2 is available.\n",
      "You should consider upgrading via the '/Library/Frameworks/Python.framework/Versions/3.8/bin/python3.8 -m pip install --upgrade pip' command.\u001b[0m\n"
     ]
    }
   ],
   "source": [
    "!pip install flickrapi"
   ]
  },
  {
   "cell_type": "code",
   "execution_count": 2,
   "id": "8e87bc87",
   "metadata": {},
   "outputs": [],
   "source": [
    "import flickrapi\n",
    "import json\n",
    "import csv"
   ]
  },
  {
   "cell_type": "code",
   "execution_count": 3,
   "id": "db09a2f2",
   "metadata": {},
   "outputs": [],
   "source": [
    "# API Keys\n",
    "api_key = \"INSERT_YOUR_KEY_HERE\"\n",
    "api_secret = \"INSERT_YOUR_SECRET_HERE\""
   ]
  },
  {
   "cell_type": "code",
   "execution_count": 4,
   "id": "7939f593",
   "metadata": {},
   "outputs": [],
   "source": [
    "def createFlickrAPI(api_key, api_secret):\n",
    "    return flickrapi.FlickrAPI(api_key, api_secret, format='json')\n",
    "\n",
    "def getPhotos(flickr, _tags, _tag_mode='any',  _page=1):\n",
    "    photos = flickr.photos.search(page=_page, tags=_tags, tag_mode=_tag_mode)\n",
    "    photos_json = json.loads(photos)\n",
    "    try:\n",
    "        return photos_json['photos']['photo']\n",
    "    except Exception as e: \n",
    "        print(\"Returning default json response as following error occured:\", e)\n",
    "        return photos_json\n",
    "\n",
    "def getPhotoInfo(flickr, _photo_id):\n",
    "    photo = flickr.photos.getInfo(photo_id=_photo_id)\n",
    "    photo_json = json.loads(photo)\n",
    "    try:\n",
    "        return photo_json['photo']\n",
    "    except Exception as e: \n",
    "        print(\"Returning default json response as following error occured:\", e)\n",
    "        return photo_json\n",
    "\n",
    "def savetoCSV(data, title):\n",
    "    keys = data[0].keys()\n",
    "\n",
    "    with open(title + '.csv', 'w', newline='') as output_file:\n",
    "        dict_writer = csv.DictWriter(output_file, keys, extrasaction='ignore')\n",
    "        dict_writer.writeheader()\n",
    "        dict_writer.writerows(data)\n",
    "        \n",
    "def cleanPhoto(photo):\n",
    "    return {\n",
    "        'id': photo['id'],\n",
    "        'date_taken': photo['dates']['taken'],\n",
    "        'title': photo['title']['_content'],\n",
    "        'description': photo['description']['_content'],\n",
    "        'tags': [ tag['_content'] for tag in photo['tags']['tag']],\n",
    "        'url': photo['urls']['url'][0]['_content']\n",
    "    }"
   ]
  },
  {
   "cell_type": "code",
   "execution_count": 5,
   "id": "2e82606f",
   "metadata": {},
   "outputs": [
    {
     "data": {
      "text/plain": [
       "[FlickrAPI for key \"ab4477adcfb0953adcc277f1af1dee17\"]"
      ]
     },
     "execution_count": 5,
     "metadata": {},
     "output_type": "execute_result"
    }
   ],
   "source": [
    "flickr = createFlickrAPI(api_key, api_secret)\n",
    "flickr"
   ]
  },
  {
   "cell_type": "code",
   "execution_count": 6,
   "id": "493c7bb7",
   "metadata": {
    "scrolled": false
   },
   "outputs": [
    {
     "name": "stdout",
     "output_type": "stream",
     "text": [
      "Fetching data for page:  22\n",
      "Saved raw data for page:  22\n",
      "Saved clean data for page:  22\n",
      "--\n"
     ]
    }
   ],
   "source": [
    "for page in range(22,23):\n",
    "\n",
    "    photosData = getPhotos(flickr, 'delhi, streets', 'all', page)\n",
    "\n",
    "    photosInfoRaw = []\n",
    "    photosInfoClean = []\n",
    "\n",
    "    print(\"Fetching data for page: \", page)\n",
    "    for photo in photosData:\n",
    "        photoId = photo['id']\n",
    "        photoInfo = getPhotoInfo(flickr, photoId)\n",
    "\n",
    "        photosInfoRaw.append(photoInfo)\n",
    "        photosInfoClean.append(cleanPhoto(photoInfo))\n",
    "        \n",
    "    savetoCSV(photosInfoRaw, 'photos_raw_page' + str(page))\n",
    "    print(\"Saved raw data for page: \", page)\n",
    "\n",
    "    savetoCSV(photosInfoClean, 'photos_clean_page' + str(page))\n",
    "    print(\"Saved clean data for page: \", page)\n",
    "    \n",
    "    print(\"--\")"
   ]
  },
  {
   "cell_type": "code",
   "execution_count": null,
   "id": "1116cab9",
   "metadata": {},
   "outputs": [],
   "source": []
  }
 ],
 "metadata": {
  "kernelspec": {
   "display_name": "Python 3 (ipykernel)",
   "language": "python",
   "name": "python3"
  },
  "language_info": {
   "codemirror_mode": {
    "name": "ipython",
    "version": 3
   },
   "file_extension": ".py",
   "mimetype": "text/x-python",
   "name": "python",
   "nbconvert_exporter": "python",
   "pygments_lexer": "ipython3",
   "version": "3.8.3"
  }
 },
 "nbformat": 4,
 "nbformat_minor": 5
}
